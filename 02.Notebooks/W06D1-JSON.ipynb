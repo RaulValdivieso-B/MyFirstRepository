{
 "metadata": {
  "language_info": {
   "codemirror_mode": {
    "name": "ipython",
    "version": 3
   },
   "file_extension": ".py",
   "mimetype": "text/x-python",
   "name": "python",
   "nbconvert_exporter": "python",
   "pygments_lexer": "ipython3",
   "version": "3.9.5"
  },
  "orig_nbformat": 4,
  "kernelspec": {
   "name": "python3",
   "display_name": "Python 3.9.5 64-bit"
  },
  "interpreter": {
   "hash": "aee8b7b246df8f9039afb4144a1f6fd8d2ca17a180786b69acc140d282b71a49"
  }
 },
 "nbformat": 4,
 "nbformat_minor": 2,
 "cells": [
  {
   "source": [
    "# Week 06 JSON"
   ],
   "cell_type": "markdown",
   "metadata": {}
  },
  {
   "cell_type": "code",
   "execution_count": 6,
   "metadata": {},
   "outputs": [],
   "source": [
    "from Libraries import persistencia as sd\n",
    "import json\n",
    "\n",
    "dataCarros = {\n",
    "    \"carros\":[\n",
    "        {\n",
    "            \"marca\": \"Renault\",\n",
    "            \"modelo\": 2010\n",
    "        },\n",
    "        {\n",
    "            \"marca\": \"Mazda\",\n",
    "            \"modelo\": 2011\n",
    "        }\n",
    "    ]    \n",
    "}\n",
    "carroB = {\n",
    "    \"marca\": \"BMW\",\n",
    "    \"modelo\": 2019\n",
    "}\n",
    "\n",
    "\"\"\" # Buffer de escritura de datos\n",
    "with open(\"data/midatalst2.json\",\"w\") as write_file: \n",
    "    json.dump(data, write_file,indent=4)      \"\"\"\n",
    "\n",
    "sd.crearInfo(\"midatad.json\",dataCarros)\n"
   ]
  },
  {
   "cell_type": "code",
   "execution_count": 7,
   "metadata": {},
   "outputs": [],
   "source": [
    "sd.crearInfo(\"midatad.json\",dataCarros)"
   ]
  },
  {
   "cell_type": "code",
   "execution_count": 8,
   "metadata": {},
   "outputs": [],
   "source": [
    "sd.addInfo(carroB,\"midatad.json\")"
   ]
  },
  {
   "cell_type": "code",
   "execution_count": 9,
   "metadata": {},
   "outputs": [
    {
     "output_type": "stream",
     "name": "stdout",
     "text": [
      "{'carros': [{'marca': 'Renault', 'modelo': 2010}, {'marca': 'Mazda', 'modelo': 2011}, {'marca': 'BMW', 'modelo': 2019}]}\n"
     ]
    }
   ],
   "source": [
    "print(sd.leerArchivo(\"midatad.json\"))"
   ]
  },
  {
   "cell_type": "code",
   "execution_count": null,
   "metadata": {},
   "outputs": [],
   "source": []
  }
 ]
}